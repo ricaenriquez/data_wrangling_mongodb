{
 "cells": [
  {
   "cell_type": "markdown",
   "metadata": {},
   "source": [
    "# Data Wrangle OpenStreetMaps Data\n",
    "## by Rica Enriquez, July 1, 2015\n",
    "<p>In this project, the OpenStreetMap data for Cambridge, United Kingdom is explored. It was downloaded from https://mapzen.com/data/metro-extracts on July 1, 2015. It was prepared for MongoDB using nanoproject_2.py and then added into a local 'udacity' database as the 'cambridge' collection.</p>"
   ]
  },
  {
   "cell_type": "markdown",
   "metadata": {},
   "source": [
    "### Import the database for querying below"
   ]
  },
  {
   "cell_type": "code",
   "execution_count": null,
   "metadata": {},
   "outputs": [],
   "source": [
    "from pymongo import MongoClient\n",
    "import os\n",
    "\n",
    "client = MongoClient()\n",
    "db = client[\"udacity\"]"
   ]
  },
  {
   "cell_type": "markdown",
   "metadata": {},
   "source": [
    "# Section 1. Problems Encountered in the Map\n",
    "<p> There were a few problems with the street names. \"chieftain\" and \"sweetpea\" were not capitalized. This was fixed in \"nanoproject_2_prep.py\" using the mapping scheme similar to the \"Improving Street Names\" script from Lesson 6.11.</p>\n",
    "<p> When importing the data, all labels were included. Many of these labels were only available for a small fraction of the documents. So in the following sections, underutilized upper labels and lower lables are removed. If a subset of the dataset is used in the future, removal of labels may  need to be more judiciously.</p>\n",
    "\n",
    "##Removing underutilized labels\n",
    "<p>Using MongoDB, only upper labels that had at least 1000 documents were kept. The \"nanoproject_2_prep.py\" file prints the list of upper labels. This list is then looped through in \"nanoproject_2_query.py\" to check the number of documents it is used in. If there are less than 1000 documents, that label is removed and the database is updated.</p>"
   ]
  },
  {
   "cell_type": "code",
   "execution_count": null,
   "metadata": {},
   "outputs": [],
   "source": [
    "all_labels = ['real_ale', 'fhrs', 'anglican', 'dance', 'sS052', 'demodified', 'maxspeed', 'smoking', 'openplaques',\n",
    "                  'is_in', 'max_age', 'created_by', 'fax', 'cctv', 'mph', 'icao', 'automatic_door', 'motor_vehicle',\n",
    "                  'school', 'level', 'notes', 'bus_stop', 'ncn_1', 'real_cider', 'disused', 'clothes', 'bicycle',\n",
    "                  'cost',\n",
    "                  'exit_to', 'leaf_type', 'access', 'fast_food', 'eligibility', 'water', 'tracks', 'address', 'hoops',\n",
    "                  'used_to_be', 'permit_holders', 'microbrewery', 'survey', 'military', 'amenity', 'alt_name', 'fee',\n",
    "                  'lwn',\n",
    "                  'vehicle', 'have_riverbank', 'type', 'start_date', 'entrance', 'drinkable', 'club',\n",
    "                  'campaigned_for_by',\n",
    "                  'give_way', 'visibility', 'site', 'phone', 'traffic_calming', 'room', 'tunnel', 'det', 'roof', 'male',\n",
    "                  'history', 'estate', 'lock', 'currency', 'ncn_ref', 'pond', 'species', 'information', 'monitoring',\n",
    "                  'gate', 'uk_postcode_centroid', 'FIXME', 'description', 'alt_ref', 'hazard', 'leisure', 'date',\n",
    "                  'rental',\n",
    "                  'natural', 'lcn_ref', 'wheelchair', 'outdoor_seating', 'healthcare', 'patio', 'office', 'trade',\n",
    "                  'postal_code', 'motorcycle', 'int_ref', 'pitch', 'covered', 'derelict', 'old_ref', 'junction', 'food',\n",
    "                  'material', 'foot', 'tourism', 'smoothness', 'fixme', 'name', 'designation', 'osmarender',\n",
    "                  'embankment',\n",
    "                  'crossing', 'kerb', 'name_1', 'frequency', 'naptan', 'access_land', 'loc_name', 'network', 'bus_bay',\n",
    "                  'highways_agency', 'ref', 'brewery', 'highway', 'barrier', 'post_box', 'cars', 'maxweight',\n",
    "                  'electrified',\n",
    "                  'was_called', 'old_amenity', 'accommodation', 'tenant', 'noexit', 'segregated', 'route', 'atm',\n",
    "                  'box_type', 'turn', 'place', 'high_capacity', 'support', 'note', 'owner', 'horse', 'service',\n",
    "                  'priority',\n",
    "                  'motorcar', 'park_ride', 'enforcement', 'noname', 'est_width', 'artist_name', 'old_old_name', 'ncn',\n",
    "                  'population', 'multi_storey', 'royal_cypher', 'aeroway', 'landuse', 'tracktype', 'builder', 'bridge',\n",
    "                  'occupier', 'nqa', 'sidewalk', 'hgv', 'lit', 'takeaway', 'overall_site', 'payment', 'old_shop',\n",
    "                  'aerodrome', 'url', 'medical', 'tactile_paving', 'shop', 'golf', 'indoor', 'social_facility',\n",
    "                  'last_survey', 'gauge', 'mapillary', 'wood', 'fuel', 'iata', 'abutters', 'bracket_ref', 'tourist_bus',\n",
    "                  'artist', 'motorboat', 'public_transport', 'power_source', 'automatic', 'int_name', 'locale',\n",
    "                  'lamp_type',\n",
    "                  'route_ref', 'parking', 'sport', 'power_supply', 'capacity', 'maxwidth', 'wikipedia', 'state',\n",
    "                  'boundary',\n",
    "                  'email', 'screen', 'denomination', 'key', 'substation', 'junction_ref', 'bar_billiards', 'railway',\n",
    "                  'genus', 'comment', 'maintainer', 'wall', 'loading_gauge', 'outside_seating', 'recycling', 'height',\n",
    "                  'ele', 'alt_description', 'boat', 'speech_output', 'mkgmap', 'waste', 'bicycle_parking', 'website',\n",
    "                  'direction', 'lanes', 'building_1', 'craft', 'official_name', 'mail', 'grills', 'replaces', 'busway',\n",
    "                  'parking_space', 'replaced', 'overtaking', 'layer', 'ons_code', 'backrest', 'telephone', 'surface',\n",
    "                  'guided_busway', 'beer_garden', 'waterway', 'cuisine', 'education', 'surveillance',\n",
    "                  'collection_times',\n",
    "                  'status', 'wires', 'cyclestreets_id', 'fence_type', 'fruit', 'ownership', 'colour', 'contact',\n",
    "                  'oneway',\n",
    "                  'landmark', 'left', 'taxi', 'livestock', 'proposed', 'hour_off', 'not', 'voltage', 'seats',\n",
    "                  'guest_house',\n",
    "                  'isced', 'toilets', 'generator', 'TODO', 'bench', 'source', 'bollard', 'usage', 'emergency',\n",
    "                  'historic',\n",
    "                  'lcn', 'psv', 'furniture', 'vending', 'tower', 'internet_access', 'right', 'twitter', 'platforms',\n",
    "                  'local_ref', 'man_made', 'religion', 'artwork_type', 'power', 'trees', 'Comment', 'incline',\n",
    "                  'footway',\n",
    "                  'industry', 'taxon', 'supervised', 'step_count', 'female', 'operator', 'area', 'unisex',\n",
    "                  'opening_hours',\n",
    "                  'museum', 'width', 'occupier3', 'occupier2', 'admin_level', 'bus', 'brand', 'delivery',\n",
    "                  'construction',\n",
    "                  'diaper', 'courts', 'old_name', 'real_fire', 'circuits', 'books', 'dispensing', 'display',\n",
    "                  'crossing_ref',\n",
    "                  'cinema', 'carriageway_ref', 'maxheight', 'cafe', 'cables', 'recycling_type', 'hour_on', 'locality',\n",
    "                  'interior_decoration', 'cycleway', 'department', 'denotation', 'shelter', 'latest_survey_date',\n",
    "                  'diet',\n",
    "                  'min_age', 'maxstay', 'opened', 'building', 'yelp', 'wifi', 'traffic_signals']\n",
    "\n",
    "# Number of documents in the collection\n",
    "N = db.cambridge.find().count()\n",
    "\n",
    "removed = []\n",
    "kept = []\n",
    "\n",
    "# Remove labels used in less than 1000 documbets\n",
    "for label in all_labels:\n",
    "    pipeline = [{\"$group\": {\"_id\": \"$\" + label, \"count\": {\"$sum\": 1}}}, {\"$match\": {\"_id\": None}}]\n",
    "    result = list(db.cambridge.aggregate(pipeline))\n",
    "    if len(result) > 0:\n",
    "        n = result[0][\"count\"]\n",
    "        if n >= N - 1000:\n",
    "            db.cambridge.update({}, {\"$unset\": {label: \"\"}}, multi=True)\n",
    "            removed.append(label)\n",
    "        else:\n",
    "            kept.append(label)\n",
    "print len(removed), \"labels were removed and\", len(all_labels) - len(removed), \"labels were kept.\"\n",
    "print \"The labels kept are:\", kept"
   ]
  },
  {
   "cell_type": "markdown",
   "metadata": {},
   "source": [
    "##Removing underutilized sublabels\n",
    "<p>Similarly, only lower labels that had at least 500 documents were kept. The \"kept\" list from the MongoDB query above is used in \"nanoproject_2_prep.py\" to print a dictionary of the list of kept upper labels and their sublabels. This dictionary is then looped through in \"nanoproject_2_query.py\" to check the number of documents each sublabel is used in, using MongoDB. If there are less than 500 documents, that sublabel is removed and the database is updated. If an upper label does not contain any sublabels, it is also removed. The final structure of the collection is printed out.</p>"
   ]
  },
  {
   "cell_type": "code",
   "execution_count": null,
   "metadata": {},
   "outputs": [],
   "source": [
    "kept_sublabels = {'building': ['name', 'level', 'levels', 'min_level', 'material', 'levels:underground'],\n",
    "                  'maxspeed': ['type', 'ype'],\n",
    "                  'name': ['cy', 'eo', 'ru', 'sr', 'uk', 'zh', 'en', 'zh_pinyin', 'he', 'de'],\n",
    "                  'service': ['bicycle:pump', 'bicycle:chain_tool'], 'access': ['conditional'],\n",
    "                  'source': ['crossing', 'addr', 'name', 'phone', 'population', 'maxwidth', 'ref', 'detail', 'info',\n",
    "                             'location', 'start_date', 'fhrs:id', 'opening_hours', 'housenumber', 'postcode', 'access',\n",
    "                             'ele', 'cost', 'taxon', 'database', 'position', 'geometry', 'maxspeed', 'lit', 'oneway',\n",
    "                             'traffic_calming', 'designation', 'operator', 'width', 'bus:backward', 'taxi:backward',\n",
    "                             'bicycle:backward', 'tourist_bus:backward', 'occupier', 'description', 'highway', 'noname',\n",
    "                             'hgv', 'outline', 'maxspeed:date', 'addr:housenumber', 'ons_code', 'wifi', 'pkey',\n",
    "                             'bridge', 'addr:postcode', 'tracktype', 'height'],\n",
    "                  'address': ['street', 'postcode', 'housenumber', 'housename', 'full', 'city', 'country',\n",
    "                              'interpolation', 'flat', 'flats', 'place', 'town'],\n",
    "                  'ref': ['university_of_cambridge', 'observado']}\n",
    "\n",
    "# Remove sublabels used in less than 500 documents\n",
    "removed_sub = {}\n",
    "kept_sub = {}\n",
    "for label in kept_sublabels.keys():\n",
    "    for sublabel in kept_sublabels[label]:\n",
    "        pipeline = [{\"$group\": {\"_id\": \"\".join([\"$\", label, \".\", sublabel]), \"count\": {\"$sum\": 1}}},\n",
    "                    {\"$match\": {\"_id\": None}}]\n",
    "        result = list(db.cambridge.aggregate(pipeline))\n",
    "        if len(result) > 0:\n",
    "            n = result[0][\"count\"]\n",
    "            if n >= N - 500:\n",
    "                db.cambridge.update({}, {\"$unset\": {\"\".join([label, '.', sublabel]): \"\"}}, multi=True)\n",
    "                try:\n",
    "                    removed_sub[label].append(sublabel)\n",
    "                except:\n",
    "                    removed_sub[label] = [sublabel]\n",
    "            else:\n",
    "                try:\n",
    "                    kept_sub[label].append(sublabel)\n",
    "                except:\n",
    "                    kept_sub[label] = [sublabel]\n",
    "\n",
    "# Remove the upper labels that no longer have sublabels\n",
    "for label in removed_sub.keys():\n",
    "    if label not in kept_sub.keys():\n",
    "        db.cambridge.update({}, {\"$unset\": {label: \"\"}}, multi=True)\n",
    "\n",
    "# Print the final structure of the collection\n",
    "final_labels = {}\n",
    "for label in kept:\n",
    "    if label in kept_sub:\n",
    "        final_labels[label] = kept_sub[label]\n",
    "    elif label not in removed_sub:\n",
    "        final_labels[label] = None\n",
    "\n",
    "print \"The final structure of the collection is:\"\n",
    "pprint.pprint(final_labels)"
   ]
  },
  {
   "cell_type": "markdown",
   "metadata": {},
   "source": [
    "##Remove postcodes that do not start with \"CB\"\n",
    "<p>All postcodes in Cambridge start with CB. Listing the postcodes in the collection, documents with a postcode of \"SG8 5TF\" is discovered and should be removed since it is for a place in Royston and the Stevenage postcode area. Since there are only two documents in the collection with this postcode, it is an error and not an approach to extend the collection the surrounding area. Additionally the postcode \"CB1\" is incomplete - there should be a second set of three characters. Documents with this are also removed.</p>"
   ]
  },
  {
   "cell_type": "code",
   "execution_count": null,
   "metadata": {},
   "outputs": [],
   "source": [
    "db.cambridge.remove({\"address.postcode\": \"CB1\"})\n",
    "db.cambridge.remove({\"address.postcode\": \"SG8 5TF\"})"
   ]
  },
  {
   "cell_type": "markdown",
   "metadata": {},
   "source": [
    "##Update Cities to Cambridge\n",
    "<p>Some cities were \"cambridge\" and not \"Cambridge\", overspecified to \"Girton\" or \"South Cambridgeshire\", or listed as \"11\". However, the other information does show that each entry is in Cambridge. Therefore, the \"city\" is updated to \"Cambridge\".</p>"
   ]
  },
  {
   "cell_type": "code",
   "execution_count": null,
   "metadata": {},
   "outputs": [],
   "source": [
    "db.cambridge.update({\"address.city\": \"cambridge\"}, {\"$set\": {\"address.city\": \"Cambridge\"}}, upsert=False,\n",
    "                    multi=True)\n",
    "db.cambridge.update({\"address.city\": \"South Cambridgeshire\"}, {\"$set\": {\"address.city\": \"Cambridge\"}}, upsert=False,\n",
    "                    multi=True)\n",
    "db.cambridge.update({\"address.city\": \"Girton\"}, {\"$set\": {\"address.city\": \"Cambridge\"}}, upsert=False, multi=True)\n",
    "db.cambridge.update({\"address.city\": \"11\"}, {\"$set\": {\"address.city\": \"Cambridge\"}}, upsert=False, multi=True)"
   ]
  },
  {
   "cell_type": "markdown",
   "metadata": {},
   "source": [
    "##Pare down barrier, entrance, highway, landuse, and operator\n",
    "<p>Some entries for these sublabels were the same, but in a different format. They were updated to be more consistent.</p>"
   ]
  },
  {
   "cell_type": "code",
   "execution_count": null,
   "metadata": {},
   "outputs": [],
   "source": [
    "# Pare down barrier\n",
    "pipeline = [{\"$group\": {\"_id\": \"$barrier\", \"count\": {\"$sum\": 1}}},\n",
    "            {\"$sort\": {\"_id\": -1}}]\n",
    "result = list(db.cambridge.aggregate(pipeline))\n",
    "pprint.pprint(result)\n",
    "\n",
    "db.cambridge.update({\"barrier\": \"fence;wall\"}, {\"$set\": {\"barrier\": \"fence\"}}, upsert=False, multi=True)\n",
    "db.cambridge.update({\"barrier\": \"fence;wall\"}, {\"$set\": {\"barrier\": \"fence\"}}, upsert=False, multi=True)\n",
    "db.cambridge.update({\"barrier\": \"fedr\"}, {\"$set\": {\"barrier\": None}}, upsert=False, multi=True)\n",
    "db.cambridge.update({\"barrier\": \"bollards\"}, {\"$set\": {\"barrier\": \"bollard\"}}, upsert=False, multi=True)\n",
    "\n",
    "# Pare down entrance\n",
    "pipeline = [{\"$group\": {\"_id\": \"$entrance\", \"count\": {\"$sum\": 1}}},\n",
    "            {\"$sort\": {\"_id\": -1}}]\n",
    "result = list(db.cambridge.aggregate(pipeline))\n",
    "pprint.pprint(result)\n",
    "\n",
    "db.cambridge.update({\"entrance\": \"secondary_entrance\"}, {\"$set\": {\"entrance\": \"secondary\"}}, upsert=False,\n",
    "                    multi=True)\n",
    "db.cambridge.update({\"entrance\": \"main_entrance; porters\"}, {\"$set\": {\"entrance\": \"main_entrance;porters\"}},\n",
    "                    upsert=False, multi=True)\n",
    "db.cambridge.update({\"entrance\": \"porters;main_entrance\"}, {\"$set\": {\"entrance\": \"main_entrance;porters\"}},\n",
    "                    upsert=False, multi=True)\n",
    "db.cambridge.update({\"entrance\": \"main\"}, {\"$set\": {\"entrance\": \"main_entrance\"}}, upsert=False, multi=True)\n",
    "db.cambridge.update({\"entrance\": \"emegency\"}, {\"$set\": {\"entrance\": \"emergency\"}}, upsert=False, multi=True)\n",
    "db.cambridge.update({\"entrance\": \"main_entrance;porters;\"}, {\"$set\": {\"entrance\": \"main_entrance;porters\"}},\n",
    "                    upsert=False, multi=True)\n",
    "\n",
    "# Pare down highway\n",
    "pipeline = [{\"$group\": {\"_id\": \"$highway\", \"count\": {\"$sum\": 1}}},\n",
    "            {\"$sort\": {\"_id\": -1}}]\n",
    "result = list(db.cambridge.aggregate(pipeline))\n",
    "pprint.pprint(result)\n",
    "\n",
    "db.cambridge.update({\"highway\": \"bus_stand\"}, {\"$set\": {\"highway\": \"bus_stop\"}}, upsert=False, multi=True)\n",
    "\n",
    "# Pare down landuse\n",
    "pipeline = [{\"$group\": {\"_id\": \"$barrier\", \"count\": {\"$sum\": 1}}},\n",
    "            {\"$sort\": {\"_id\": -1}}]\n",
    "result = list(db.cambridge.aggregate(pipeline))\n",
    "pprint.pprint(result)\n",
    "db.cambridge.update({\"landuse\": \"institututional\"}, {\"$set\": {\"landuse\": \"institutional\"}}, upsert=False,\n",
    "                    multi=True)\n",
    "\n",
    "# Pare down operator\n",
    "pipeline = [{\"$group\": {\"_id\": \"$operator\", \"count\": {\"$sum\": 1}}},\n",
    "            {\"$sort\": {\"_id\": -1}}]\n",
    "result = list(db.cambridge.aggregate(pipeline))\n",
    "pprint.pprint(result)\n",
    "db.cambridge.update({\"operator\": \"YourSpace\"}, {\"$set\": {\"operator\": \"Your Space Apartments\"}}, upsert=False,\n",
    "                    multi=True)\n",
    "db.cambridge.update({\"operator\": \"Your Space\"}, {\"$set\": {\"operator\": \"Your Space Apartments\"}}, upsert=False,\n",
    "                    multi=True)\n",
    "db.cambridge.update({\"operator\": \"Trinity College\"},\n",
    "                    {\"$set\": {\"operator\": \"Trinity College (University of Cambridge)\"}}, upsert=False, multi=True)\n",
    "db.cambridge.update({\"operator\": \"St John's College\"},\n",
    "                    {\"$set\": {\"operator\": \"St John's College (University of Cambridge)\"}}, upsert=False, multi=True)\n",
    "db.cambridge.update({\"operator\": \"Lucy Cavendish College\"},\n",
    "                    {\"$set\": {\"operator\": \"Lucy Cavendish College (University of Cambridge)\"}}, upsert=False,\n",
    "                    multi=True)\n",
    "db.cambridge.update({\"operator\": \"Lloyds\"}, {\"$set\": {\"operator\": \"Lloyds TSB\"}}, upsert=False, multi=True)\n",
    "db.cambridge.update({\"operator\": \"King's College\"},\n",
    "                    {\"$set\": {\"operator\": \"King's College (University of Cambridge)\"}}, upsert=False, multi=True)\n",
    "db.cambridge.update({\"operator\": \"King's College (University Of Cambridge)\"},\n",
    "                    {\"$set\": {\"operator\": \"King's College (University of Cambridge)\"}}, upsert=False, multi=True)\n",
    "db.cambridge.update({\"operator\": \"Needham Institute\"}, {\"$set\": {\"operator\": \"Needham Research Institute\"}},\n",
    "                    upsert=False, multi=True)\n",
    "db.cambridge.update({\"operator\": \"Gonville and Caius College (University of Cambridge)\"},\n",
    "                    {\"$set\": {\"operator\": \"Gonville & Caius College (University of Cambridge)\"}}, upsert=False,\n",
    "                    multi=True)\n",
    "db.cambridge.update({\"operator\": \"EDF\"}, {\"$set\": {\"operator\": \"EDF Energy\"}}, upsert=False, multi=True)\n",
    "db.cambridge.update({\"operator\": \"Clare College\"},\n",
    "                    {\"$set\": {\"operator\": \"Clare College (University of Cambridge)\"}}, upsert=False, multi=True)\n",
    "db.cambridge.update({\"operator\": \"Christ's College\"},\n",
    "                    {\"$set\": {\"operator\": \"Christ's College (University of Cambridge)\"}}, upsert=False, multi=True)"
   ]
  },
  {
   "cell_type": "markdown",
   "metadata": {},
   "source": [
    "#Section 2. Overview of the Data\n",
    "<p> A statistical overview of the dataset with the MongDB queries used to obtain such statistics are below.</p>"
   ]
  },
  {
   "cell_type": "code",
   "execution_count": null,
   "metadata": {},
   "outputs": [],
   "source": [
    "print \"The size of 'cambridge_england.osm' is\", os.stat(\"cambridge_england.osm\").st_size / 1e6, \"MB.\"\n",
    "print \"The size of 'cambridge_england.osm.json' is\", os.stat(\"cambridge_england.osm.json\").st_size / 1e6, \"MB.\"\n",
    "N2 = db.cambridge.find().count()\n",
    "print \"There are\", N, \"documents in the original set and\", N2, \"documents in the cleaned set.\"\n",
    "pipeline = [{\"$group\": {\"_id\": \"$created.user\", \"count\": {\"$sum\": 1}}}]\n",
    "print \"There are\", len(list(db.cambridge.aggregate(pipeline))), \"unique users.\"\n",
    "print \"There are\", db.cambridge.find({\"type\": \"node\"}).count(), \"nodes.\"\n",
    "print \"There are\", db.cambridge.find({\"type\": \"way\"}).count(), \"ways.\"\n",
    "pipeline = [{\"$group\": {\"_id\": \"$created.user\", \"count\": {\"$sum\": 1}}},\n",
    "            {\"$sort\": {\"count\": -1}},\n",
    "            {\"$limit\": 1}]\n",
    "print list(db.cambridge.aggregate(pipeline))[0]['_id'], \"contributed the most to this collection with\", \\\n",
    "    list(db.cambridge.aggregate(pipeline))[0]['count'], \"documents.\"\n",
    "pipeline = [{\"$group\": {\"_id\": \"$created.user\", \"count\": {\"$sum\": 1}}},\n",
    "            {\"$group\": {\"_id\": \"$count\", \"num_users\": {\"$sum\": 1}}},\n",
    "            {\"$sort\": {\"_id\": 1}},\n",
    "            {\"$limit\": 1}]\n",
    "print list(db.cambridge.aggregate(pipeline))[0]['num_users'], \"users contributed once.\"\n",
    "pipeline = [{\"$group\": {\"_id\": \"$amenity\", \"count\": {\"$sum\": 1}}},\n",
    "            {\"$match\": {\"_id\": {\"$ne\": None}}},\n",
    "            {\"$sort\": {\"count\": -1}},\n",
    "            {\"$limit\": 5}]\n",
    "print list(db.cambridge.aggregate(pipeline))[0][\"_id\"], list(db.cambridge.aggregate(pipeline))[1][\n",
    "    \"_id\"], \"are the top two amenities.\""
   ]
  },
  {
   "cell_type": "markdown",
   "metadata": {},
   "source": [
    "##Section 3. Additional Ideas"
   ]
  },
  {
   "cell_type": "markdown",
   "metadata": {},
   "source": [
    "<p>Some addresses have house names. It would be interesting to know if there's a certain postal code with the most and if there is an operator that is popular. Additionally, it would be interesting where the top amenities are located.</p>"
   ]
  },
  {
   "cell_type": "code",
   "execution_count": null,
   "metadata": {},
   "outputs": [],
   "source": [
    "# Find the top postcodes with housenames\n",
    "pipeline = [{\"$match\": {\"address.housename\": {\"$exists\": True}}},\n",
    "                {\"$group\": {\"_id\": \"$address.postcode\", \"count\": {\"$sum\": 1}}},\n",
    "                {\"$sort\": {\"count\": -1}}]\n",
    "pprint.pprint(list(db.cambridge.aggregate(pipeline)))\n",
    "\n",
    "# Find the top operators with housenames\n",
    "pipeline = [{\"$match\": {\"address.housename\": {\"$exists\": True}}},\n",
    "                {\"$group\": {\"_id\": \"$operator\", \"count\": {\"$sum\": 1}}},\n",
    "                {\"$sort\": {\"count\": -1}}]\n",
    "pprint.pprint(list(db.cambridge.aggregate(pipeline)))\n",
    "\n",
    "# Find the top amenties with postcodes and sort by postcode\n",
    "pipeline = [{\"$match\": {\"amenity\": {\"$ne\": None}}},\n",
    "            {\"$match\": {\"amenity\": {\"$ne\": \"university\"}}},\n",
    "            {\"$match\": {\"address.postcode\": {\"$ne\": None}}},\n",
    "            {\"$group\": {\"_id\": {\"amenity\": \"$amenity\",\n",
    "                                \"postcode\": \"$address.postcode\"},\n",
    "                        \"count\": {\"$sum\": 1}}},\n",
    "            {\"$sort\": {\"count\": -1}},\n",
    "            {\"$group\": {\"_id\": \"$_id.amenity\",\n",
    "                        \"info\": {\"$push\": {\n",
    "                            \"postcode\": \"$_id.postcode\",\n",
    "                            \"count\": \"$count\"},},\n",
    "                        \"count\": { \"$sum\": \"$count\"}}},\n",
    "            {\"$sort\": {\"count\": -1}},\n",
    "            {\"$limit\": 5}]\n",
    "pprint.pprint(list(db.cambridge.aggregate(pipeline)))"
   ]
  },
  {
   "cell_type": "markdown",
   "metadata": {},
   "source": [
    "## Section 4. Conclusions"
   ]
  },
  {
   "cell_type": "markdown",
   "metadata": {},
   "source": [
    "<p>The Cambridge, England OpenStreetMap dataset is full of information. However, this can also be cumbersome to analyze. During the cleaning up stages, many labels and sublables were removed. It may be useful to move the information to an exisiting label rather than having it removed. For example, the information in \"have_riverbank\" and \"trees\" can be moved to the kept \"natural\" label. Additionally, there are some labels that would have been useful for analysis. For example, \"cuisine\" was prematurely removed. The top cuisine for this area couldn't be examined with MongoDB.</p>"
   ]
  }
 ],
 "metadata": {
  "celltoolbar": "Raw Cell Format",
  "kernelspec": {
   "display_name": "Python 2",
   "language": "python",
   "name": "python2"
  },
  "language_info": {
   "codemirror_mode": {
    "name": "ipython",
    "version": 2.0
   },
   "file_extension": ".py",
   "mimetype": "text/x-python",
   "name": "python",
   "nbconvert_exporter": "python",
   "pygments_lexer": "ipython2",
   "version": "2.7.9"
  }
 },
 "nbformat": 4,
 "nbformat_minor": 0
}